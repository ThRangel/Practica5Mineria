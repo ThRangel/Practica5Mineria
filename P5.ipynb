{
 "cells": [
  {
   "cell_type": "code",
   "execution_count": 1,
   "metadata": {},
   "outputs": [],
   "source": [
    "from pandas import read_csv\n",
    "import matplotlib.pyplot as plt\n",
    "\n",
    "from sklearn.preprocessing import LabelEncoder\n",
    "from sklearn.preprocessing import OrdinalEncoder\n",
    "from sklearn.feature_selection import SelectKBest\n",
    "from sklearn.feature_selection import chi2\n",
    "from sklearn.feature_selection import mutual_info_classif\n",
    "from sklearn.model_selection import train_test_split\n",
    "from sklearn.linear_model import LogisticRegression\n",
    "from sklearn.metrics import accuracy_score"
   ]
  },
  {
   "cell_type": "code",
   "execution_count": 2,
   "metadata": {},
   "outputs": [],
   "source": [
    "#Cargamos el dataset\n",
    "def load_dataset(filename):\n",
    "    #Como un Dataframe\n",
    "    data = read_csv(filename, header=None)\n",
    "    #Creamos una matriz con los datos\n",
    "    dataset = data.values\n",
    "    #Dividimos en X y y\n",
    "    X = dataset[:, :-1]\n",
    "    y = dataset[:,-1]\n",
    "    #Forzamos el tipo string\n",
    "    X = X.astype(str)\n",
    "    return X, y\n",
    " \n",
    "#Preparamos los datos de entrada, X\n",
    "def prepare_inputs(X_train, X_test):\n",
    "    oe = OrdinalEncoder()\n",
    "    oe.fit(X_train)\n",
    "    X_train_enc = oe.transform(X_train)\n",
    "    X_test_enc = oe.transform(X_test)\n",
    "    return X_train_enc, X_test_enc\n",
    " \n",
    "#Preparamos los datos de salida, y\n",
    "def prepare_targets(y_train, y_test):\n",
    "    le = LabelEncoder()\n",
    "    le.fit(y_train)\n",
    "    y_train_enc = le.transform(y_train)\n",
    "    y_test_enc = le.transform(y_test)\n",
    "    return y_train_enc, y_test_enc"
   ]
  },
  {
   "cell_type": "code",
   "execution_count": 3,
   "metadata": {},
   "outputs": [
    {
     "name": "stdout",
     "output_type": "stream",
     "text": [
      "Accuracy/exactitud: 66.67 %\n"
     ]
    }
   ],
   "source": [
    "#Cargamos el dataset\n",
    "file = \"DatosAlumnos.csv\"\n",
    "X, y = load_dataset(file)\n",
    "\n",
    "#Dividimos los datos de entrada, X, y salida, y\n",
    "X_train, X_test, y_train, y_test = train_test_split(X, y, test_size=0.33, random_state=1)\n",
    "#Preparamos a X\n",
    "X_train_enc, X_test_enc = prepare_inputs(X_train, X_test)\n",
    "#Preparamos ay\n",
    "y_train_enc, y_test_enc = prepare_targets(y_train, y_test)\n",
    "\n",
    "#Buscamos el modelo\n",
    "model = LogisticRegression(solver='lbfgs')\n",
    "model.fit(X_train_enc, y_train_enc)\n",
    "\n",
    "#Encontramos el modelo\n",
    "yhat = model.predict(X_test_enc)\n",
    "\n",
    "#Evaluamos el desempeño del modelo encontrado\n",
    "accuracy = accuracy_score(y_test_enc, yhat)\n",
    "print('Accuracy/exactitud: %.2f' % (accuracy*100), '%')"
   ]
  },
  {
   "cell_type": "code",
   "execution_count": 4,
   "metadata": {},
   "outputs": [],
   "source": [
    "#Selección de características\n",
    "def select_features(X_train, y_train, X_test):\n",
    "    fs = SelectKBest(score_func=chi2, k=4)\n",
    "    fs.fit(X_train, y_train)\n",
    "    X_train_fs = fs.transform(X_train)\n",
    "    X_test_fs = fs.transform(X_test)\n",
    "    \n",
    "    for i in range(len(fs.scores_)):\n",
    "        print('Característica %d: %f' % (i, fs.scores_[i]))\n",
    "    \n",
    "    plt.bar([i for i in range(len(fs.scores_))], fs.scores_)\n",
    "    return X_train_fs, X_test_fs"
   ]
  },
  {
   "cell_type": "code",
   "execution_count": 5,
   "metadata": {},
   "outputs": [
    {
     "name": "stdout",
     "output_type": "stream",
     "text": [
      "Característica 0: 0.020833\n",
      "Característica 1: 2.000000\n",
      "Característica 2: 1.666667\n",
      "Característica 3: 2.000000\n",
      "Accuracy/exactitud: 66.67 %\n"
     ]
    },
    {
     "data": {
      "image/png": "[encoded data removed]",
      "text/plain": [
       "<Figure size 432x288 with 1 Axes>"
      ]
     },
     "metadata": {
      "needs_background": "light"
     },
     "output_type": "display_data"
    }
   ],
   "source": [
    "\n",
    "#Cargamos el dataset\n",
    "file = \"DatosAlumnos.csv\"\n",
    "X, y = load_dataset(file)\n",
    "\n",
    "#Dividimos los datos de entrada, X, y salida, y\n",
    "X_train, X_test, y_train, y_test = train_test_split(X, y, test_size=0.33, random_state=1)\n",
    "#Preparamos a X\n",
    "X_train_enc, X_test_enc = prepare_inputs(X_train, X_test)\n",
    "#Preparamos a y\n",
    "y_train_enc, y_test_enc = prepare_targets(y_train, y_test)\n",
    "#Selección de características\n",
    "X_train_fs, X_test_fs = select_features(X_train_enc, y_train_enc, X_test_enc)\n",
    "\n",
    "#Buscamos el modelo\n",
    "model = LogisticRegression(solver='lbfgs')\n",
    "model.fit(X_train_fs, y_train_enc)\n",
    "\n",
    "#Encontramos el modelo\n",
    "yhat = model.predict(X_test_fs)\n",
    "\n",
    "#Evaluamos el desempeño del modelo encontrado\n",
    "accuracy = accuracy_score(y_test_enc, yhat)\n",
    "print('Accuracy/exactitud: %.2f' % (accuracy*100), '%')"
   ]
  },
  {
   "cell_type": "code",
   "execution_count": 6,
   "metadata": {},
   "outputs": [],
   "source": [
    "#Selección de características\n",
    "def select_features(X_train, y_train, X_test):\n",
    "    fs = SelectKBest(score_func=mutual_info_classif, k=4)\n",
    "    fs.fit(X_train, y_train)\n",
    "    X_train_fs = fs.transform(X_train)\n",
    "    X_test_fs = fs.transform(X_test)\n",
    "    \n",
    "    for i in range(len(fs.scores_)):\n",
    "        print('Característica %d: %f' % (i, fs.scores_[i]))\n",
    "    \n",
    "    plt.bar([i for i in range(len(fs.scores_))], fs.scores_)\n",
    "    return X_train_fs, X_test_fs"
   ]
  },
  {
   "cell_type": "code",
   "execution_count": 7,
   "metadata": {},
   "outputs": [
    {
     "name": "stdout",
     "output_type": "stream",
     "text": [
      "Característica 0: 0.000000\n",
      "Característica 1: 1.383333\n",
      "Característica 2: 0.000000\n",
      "Característica 3: 0.983333\n",
      "Accuracy/exactitud: 66.67 %\n"
     ]
    },
    {
     "data": {
      "image/png": "[encoded data removed]",
      "text/plain": [
       "<Figure size 432x288 with 1 Axes>"
      ]
     },
     "metadata": {
      "needs_background": "light"
     },
     "output_type": "display_data"
    }
   ],
   "source": [
    "#Cargamos el dataset\n",
    "file = \"DatosAlumnos.csv\"\n",
    "X, y = load_dataset(file)\n",
    "\n",
    "#Dividimos los datos de entrada, X, y salida, y\n",
    "X_train, X_test, y_train, y_test = train_test_split(X, y, test_size=0.33, random_state=1)\n",
    "#Preparamos a X\n",
    "X_train_enc, X_test_enc = prepare_inputs(X_train, X_test)\n",
    "#Preparamos a y\n",
    "y_train_enc, y_test_enc = prepare_targets(y_train, y_test)\n",
    "#Selección de características\n",
    "X_train_fs, X_test_fs = select_features(X_train_enc, y_train_enc, X_test_enc)\n",
    "\n",
    "#Buscamos el modelo\n",
    "model = LogisticRegression(solver='lbfgs')\n",
    "model.fit(X_train_fs, y_train_enc)\n",
    "\n",
    "#Encontramos el modelo\n",
    "yhat = model.predict(X_test_fs)\n",
    "\n",
    "#Evaluamos el desempeño del modelo encontrado\n",
    "accuracy = accuracy_score(y_test_enc, yhat)\n",
    "print('Accuracy/exactitud: %.2f' % (accuracy*100), '%')"
   ]
  },
  {
   "cell_type": "code",
   "execution_count": null,
   "metadata": {},
   "outputs": [],
   "source": []
  }
 ],
 "metadata": {
  "kernelspec": {
   "display_name": "Python 3",
   "language": "python",
   "name": "python3"
  },
  "language_info": {
   "codemirror_mode": {
    "name": "ipython",
    "version": 3
   },
   "file_extension": ".py",
   "mimetype": "text/x-python",
   "name": "python",
   "nbconvert_exporter": "python",
   "pygments_lexer": "ipython3",
   "version": "3.7.4"
  }
 },
 "nbformat": 4,
 "nbformat_minor": 2
}
